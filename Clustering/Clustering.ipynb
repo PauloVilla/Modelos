{
 "cells": [
  {
   "cell_type": "markdown",
   "metadata": {},
   "source": [
    "# <font color= #2E9AFE> Tema: Clustering</font>"
   ]
  },
  {
   "cell_type": "markdown",
   "metadata": {},
   "source": [
    "### K-Means\n",
    "\n",
    "Pasos\n",
    "\n",
    "1. Seleccionar el número de grupos/clusters, \"k\" que queremos. \n",
    "\n",
    "2. Crear los \"K\" centroides. La manera más fácil es usar las primeras \"K\" filas del dataset o hacer una selección random. \n",
    "\n",
    "3. Estos centroides no están optimizados. El entrenamiento implica mover los centroides hasta que estén en el centro de cada grupo. En este punto podemos determinar en qué grupo debería estar un punto de datos dado (el centroide al que está más cercano).\n",
    "Con nuestros centroides iniciales, iteramos a través de los datos agrupando cada punto hasta el centroide al que está más cercano. Luego, cambiamos los centroides tomando el promedio de todos los puntos de datos en cada grupo.\n",
    "\n",
    "4. El proceso se repite hasta que los centroides ya no cambien tanto. "
   ]
  },
  {
   "cell_type": "markdown",
   "metadata": {},
   "source": [
    "#### Ejemplo 1 from scratch"
   ]
  },
  {
   "cell_type": "code",
   "execution_count": 1,
   "metadata": {},
   "outputs": [
    {
     "data": {
      "text/plain": [
       "array([[ 4,  3],\n",
       "       [ 0,  0],\n",
       "       [ 2,  4],\n",
       "       [ 3,  4],\n",
       "       [ 5,  4],\n",
       "       [-2,  1],\n",
       "       [-3,  0],\n",
       "       [-3, -3],\n",
       "       [ 8, 12],\n",
       "       [11, 11],\n",
       "       [ 9, 10]])"
      ]
     },
     "execution_count": 1,
     "metadata": {},
     "output_type": "execute_result"
    }
   ],
   "source": [
    "import numpy as np\n",
    "\n",
    "#Crear datos\n",
    "data = np.array([  \n",
    "    [4, 3], [0, 0], [2, 4], [3, 4], [5, 4], [-2, 1], [-3, 0], [-3, -3], [8, 12], [11, 11], [9, 10]  \n",
    "])\n",
    "data"
   ]
  },
  {
   "cell_type": "code",
   "execution_count": 2,
   "metadata": {},
   "outputs": [
    {
     "data": {
      "image/png": "[encoded data removed]",
      "text/plain": [
       "<Figure size 432x288 with 1 Axes>"
      ]
     },
     "metadata": {
      "needs_background": "light"
     },
     "output_type": "display_data"
    }
   ],
   "source": [
    "#Graficar datos\n",
    "import matplotlib.pyplot as plt\n",
    "plt.scatter(data[:,0],data[:,1]) \n",
    "plt.show()"
   ]
  },
  {
   "cell_type": "code",
   "execution_count": 3,
   "metadata": {},
   "outputs": [],
   "source": [
    "#Selecionar número de K\n",
    "K = 3  \n",
    "tol = 0.001  \n",
    "max_iter = 25\n",
    "\n",
    "#Inicializar los centroides tomando los primeros \"k\" datos\n",
    "centroids = {}  \n",
    "for i in range(K):  \n",
    "    centroids[i] = data[i] \n",
    "    \n",
    "groups = {}  \n",
    "for i in range(max_iter):  \n",
    "    # Paso 1  \n",
    "    for j in range(K):  \n",
    "        groups[j] = [] #Inicializar los grupos con K matrices vacías.\n",
    "        #Esto asegura que los grupos estén vacíos al comienzo de cada iteración.\n",
    "\n",
    "    # Paso 2  \n",
    "    for feature_set in data:  \n",
    "        #Iterar los datos, calcular distancia euclidiana con respecto a los centroides \n",
    "        distances = [np.linalg.norm(feature_set - centroids[centroid_key]) for centroid_key in centroids]\n",
    "\n",
    "        #El dato es añadido al grupo del centroide donde está más cercano \n",
    "        group = distances.index(min(distances))  \n",
    "        groups[group].append(feature_set)\n",
    "\n",
    "    # Guardar los centroides actuales. \n",
    "    # Estos van a cambiar pronto pero necesitamos los centroides viejos para ver cuánto cambiaron de la iteración pasada\n",
    "    old_centroids = dict(centroids)\n",
    "\n",
    "    # Calcular los nuevos centroides, tomando el promedio de todos los datos que cayeron en cada grupo de centroide \n",
    "    for j in range(K):  \n",
    "        centroids[j] = np.average(groups[j], axis=0)\n",
    "\n",
    "    # Revisar si el cambio en alguno de los centroides es mayor a 0.001%. Si sí, no se ha optimizado todavía y se repite  \n",
    "    optimized = True  \n",
    "    for centroid_key in centroids:  \n",
    "        old_centroid = old_centroids[centroid_key]  \n",
    "        new_centroid = centroids[centroid_key]  \n",
    "        a = np.array(new_centroid - old_centroid)  \n",
    "        b = np.array(old_centroid)  \n",
    "        change = np.divide(a, b, out=np.zeros_like(a), where=b!=0)\n",
    "\n",
    "        if abs(np.sum(change * 100.0)) > tol:  \n",
    "            optimized = False  \n",
    "            break  \n",
    "    if optimized:  \n",
    "        break   \n",
    "    "
   ]
  },
  {
   "cell_type": "code",
   "execution_count": 4,
   "metadata": {},
   "outputs": [
    {
     "data": {
      "text/plain": [
       "{0: [array([ 8, 12]), array([11, 11]), array([ 9, 10])],\n",
       " 1: [array([0, 0]), array([-2,  1]), array([-3,  0]), array([-3, -3])],\n",
       " 2: [array([4, 3]), array([2, 4]), array([3, 4]), array([5, 4])]}"
      ]
     },
     "execution_count": 4,
     "metadata": {},
     "output_type": "execute_result"
    }
   ],
   "source": [
    "#Grupos\n",
    "groups"
   ]
  },
  {
   "cell_type": "code",
   "execution_count": 5,
   "metadata": {},
   "outputs": [
    {
     "data": {
      "text/plain": [
       "{0: array([ 9.33333333, 11.        ]),\n",
       " 1: array([-2. , -0.5]),\n",
       " 2: array([3.5 , 3.75])}"
      ]
     },
     "execution_count": 5,
     "metadata": {},
     "output_type": "execute_result"
    }
   ],
   "source": [
    "#Centroides\n",
    "centroids"
   ]
  },
  {
   "cell_type": "markdown",
   "metadata": {},
   "source": [
    "### Ejemplo 1 con librería\n"
   ]
  },
  {
   "cell_type": "code",
   "execution_count": 6,
   "metadata": {},
   "outputs": [
    {
     "data": {
      "text/plain": [
       "array([[ 4,  3],\n",
       "       [ 0,  0],\n",
       "       [ 2,  4],\n",
       "       [ 3,  4],\n",
       "       [ 5,  4],\n",
       "       [-2,  1],\n",
       "       [-3,  0],\n",
       "       [-3, -3],\n",
       "       [ 8, 12],\n",
       "       [11, 11],\n",
       "       [ 9, 10]])"
      ]
     },
     "execution_count": 6,
     "metadata": {},
     "output_type": "execute_result"
    }
   ],
   "source": [
    "import numpy as np\n",
    "\n",
    "data = np.array([  \n",
    "    [4, 3], [0, 0], [2, 4], [3, 4], [5, 4], [-2, 1], [-3, 0], [-3, -3], [8, 12], [11, 11], [9, 10]  \n",
    "])\n",
    "data"
   ]
  },
  {
   "cell_type": "code",
   "execution_count": 7,
   "metadata": {},
   "outputs": [
    {
     "data": {
      "text/plain": [
       "KMeans(init='random', n_clusters=3, random_state=42)"
      ]
     },
     "execution_count": 7,
     "metadata": {},
     "output_type": "execute_result"
    }
   ],
   "source": [
    "#Inicializar kmeans\n",
    "from sklearn.cluster import KMeans\n",
    "\n",
    "kmeans = KMeans(\n",
    "       init=\"random\",\n",
    "       n_clusters=3,\n",
    "       n_init=10,\n",
    "       max_iter=300,\n",
    "       random_state=42)\n",
    "\n",
    "#Entrenar datos\n",
    "kmeans.fit(data)"
   ]
  },
  {
   "cell_type": "code",
   "execution_count": 8,
   "metadata": {},
   "outputs": [
    {
     "data": {
      "text/plain": [
       "array([1, 0, 1, 1, 1, 0, 0, 0, 2, 2, 2])"
      ]
     },
     "execution_count": 8,
     "metadata": {},
     "output_type": "execute_result"
    }
   ],
   "source": [
    "#Grupos\n",
    "y_kmeans = kmeans.fit_predict(data)\n",
    "y_kmeans"
   ]
  },
  {
   "cell_type": "code",
   "execution_count": 9,
   "metadata": {},
   "outputs": [
    {
     "data": {
      "text/plain": [
       "array([[-2.        , -0.5       ],\n",
       "       [ 3.5       ,  3.75      ],\n",
       "       [ 9.33333333, 11.        ]])"
      ]
     },
     "execution_count": 9,
     "metadata": {},
     "output_type": "execute_result"
    }
   ],
   "source": [
    "#centroides\n",
    "kmeans.cluster_centers_"
   ]
  },
  {
   "cell_type": "code",
   "execution_count": 10,
   "metadata": {},
   "outputs": [
    {
     "name": "stderr",
     "output_type": "stream",
     "text": [
      "C:\\Users\\paulo\\anaconda3\\lib\\site-packages\\sklearn\\cluster\\_kmeans.py:881: UserWarning: KMeans is known to have a memory leak on Windows with MKL, when there are less chunks than available threads. You can avoid it by setting the environment variable OMP_NUM_THREADS=1.\n",
      "  warnings.warn(\n"
     ]
    },
    {
     "data": {
      "image/png": "[encoded data removed]",
      "text/plain": [
       "<Figure size 432x288 with 1 Axes>"
      ]
     },
     "metadata": {},
     "output_type": "display_data"
    }
   ],
   "source": [
    "#Elegir número de clusters (k)\n",
    "kmeans_kwargs = {\n",
    "       \"init\": \"random\",\n",
    "       \"n_init\": 10,\n",
    "       \"max_iter\": 300,\n",
    "       \"random_state\": 42,\n",
    "}\n",
    "\n",
    "#Calculamos la suma del error cuadrático (SSE) para cada \"k\" de clusters\n",
    "sse = []\n",
    "for k in range(1, 11):\n",
    "    kmeans = KMeans(n_clusters=k, **kmeans_kwargs)\n",
    "    kmeans.fit(data)\n",
    "    sse.append(kmeans.inertia_)\n",
    "    \n",
    "#Graficamos\n",
    "plt.style.use(\"fivethirtyeight\")\n",
    "plt.plot(range(1, 11), sse)\n",
    "plt.xticks(range(1, 11))\n",
    "plt.xlabel(\"Numero de cluster\")\n",
    "plt.ylabel(\"SSE\")\n",
    "plt.show()"
   ]
  },
  {
   "cell_type": "code",
   "execution_count": 11,
   "metadata": {},
   "outputs": [
    {
     "data": {
      "text/plain": [
       "3"
      ]
     },
     "execution_count": 11,
     "metadata": {},
     "output_type": "execute_result"
    }
   ],
   "source": [
    "from kneed import KneeLocator\n",
    "kl = KneeLocator(\n",
    "     range(1, 11), sse, curve=\"convex\", direction=\"decreasing\"\n",
    ")\n",
    "\n",
    "kl.elbow"
   ]
  },
  {
   "cell_type": "markdown",
   "metadata": {},
   "source": [
    "#### Ejemplo 2 con librería"
   ]
  },
  {
   "cell_type": "code",
   "execution_count": 12,
   "metadata": {},
   "outputs": [
    {
     "data": {
      "text/plain": [
       "<Figure size 432x288 with 0 Axes>"
      ]
     },
     "metadata": {},
     "output_type": "display_data"
    },
    {
     "data": {
      "image/png": "[encoded data removed]",
      "text/plain": [
       "<Figure size 288x288 with 1 Axes>"
      ]
     },
     "metadata": {},
     "output_type": "display_data"
    }
   ],
   "source": [
    "from sklearn.datasets import load_digits\n",
    "digits = load_digits()\n",
    "\n",
    "import matplotlib.pyplot as plt \n",
    "plt.gray() \n",
    "plt.matshow(digits.images[0]) \n",
    "plt.show() "
   ]
  },
  {
   "cell_type": "code",
   "execution_count": 13,
   "metadata": {},
   "outputs": [
    {
     "name": "stdout",
     "output_type": "stream",
     "text": [
      "# digits: 10; # samples: 1797; # features 64\n"
     ]
    }
   ],
   "source": [
    "import numpy as np\n",
    "from sklearn.datasets import load_digits\n",
    "\n",
    "data, labels = load_digits(return_X_y=True)\n",
    "(n_samples, n_features), n_digits = data.shape, np.unique(labels).size\n",
    "\n",
    "print(\n",
    "    f\"# digits: {n_digits}; # samples: {n_samples}; # features {n_features}\"\n",
    ")"
   ]
  },
  {
   "cell_type": "code",
   "execution_count": 14,
   "metadata": {},
   "outputs": [
    {
     "data": {
      "text/plain": [
       "array([[ 0.,  0.,  5., 13.,  9.,  1.,  0.,  0.,  0.,  0., 13., 15., 10.,\n",
       "        15.,  5.,  0.,  0.,  3., 15.,  2.,  0., 11.,  8.,  0.,  0.,  4.,\n",
       "        12.,  0.,  0.,  8.,  8.,  0.,  0.,  5.,  8.,  0.,  0.,  9.,  8.,\n",
       "         0.,  0.,  4., 11.,  0.,  1., 12.,  7.,  0.,  0.,  2., 14.,  5.,\n",
       "        10., 12.,  0.,  0.,  0.,  0.,  6., 13., 10.,  0.,  0.,  0.],\n",
       "       [ 0.,  0.,  0., 12., 13.,  5.,  0.,  0.,  0.,  0.,  0., 11., 16.,\n",
       "         9.,  0.,  0.,  0.,  0.,  3., 15., 16.,  6.,  0.,  0.,  0.,  7.,\n",
       "        15., 16., 16.,  2.,  0.,  0.,  0.,  0.,  1., 16., 16.,  3.,  0.,\n",
       "         0.,  0.,  0.,  1., 16., 16.,  6.,  0.,  0.,  0.,  0.,  1., 16.,\n",
       "        16.,  6.,  0.,  0.,  0.,  0.,  0., 11., 16., 10.,  0.,  0.],\n",
       "       [ 0.,  0.,  0.,  4., 15., 12.,  0.,  0.,  0.,  0.,  3., 16., 15.,\n",
       "        14.,  0.,  0.,  0.,  0.,  8., 13.,  8., 16.,  0.,  0.,  0.,  0.,\n",
       "         1.,  6., 15., 11.,  0.,  0.,  0.,  1.,  8., 13., 15.,  1.,  0.,\n",
       "         0.,  0.,  9., 16., 16.,  5.,  0.,  0.,  0.,  0.,  3., 13., 16.,\n",
       "        16., 11.,  5.,  0.,  0.,  0.,  0.,  3., 11., 16.,  9.,  0.]])"
      ]
     },
     "execution_count": 14,
     "metadata": {},
     "output_type": "execute_result"
    }
   ],
   "source": [
    "data[0:3]"
   ]
  },
  {
   "cell_type": "code",
   "execution_count": 15,
   "metadata": {},
   "outputs": [],
   "source": [
    "from sklearn.cluster import KMeans\n",
    "from sklearn.decomposition import PCA\n",
    "#pca = PCA(n_components=n_digits).fit(data)\n",
    "#kmeans = KMeans(init=pca.components_, n_clusters=n_digits, n_init=1)"
   ]
  },
  {
   "cell_type": "code",
   "execution_count": 16,
   "metadata": {},
   "outputs": [
    {
     "data": {
      "image/png": "[encoded data removed]",
      "text/plain": [
       "<Figure size 432x288 with 1 Axes>"
      ]
     },
     "metadata": {},
     "output_type": "display_data"
    }
   ],
   "source": [
    "import matplotlib.pyplot as plt\n",
    "\n",
    "reduced_data = PCA(n_components=2).fit_transform(data) #Aplicamos PCA y reducimos a dos dimensiones\n",
    "kmeans = KMeans(init=\"k-means++\", n_clusters=n_digits, n_init=4)\n",
    "kmeans.fit(reduced_data)\n",
    "\n",
    "#Gráfico de los clusters\n",
    "#Graficar los límites. Asignar un color a cada cluster\n",
    "x_min, x_max = reduced_data[:, 0].min() - 1, reduced_data[:, 0].max() + 1\n",
    "y_min, y_max = reduced_data[:, 1].min() - 1, reduced_data[:, 1].max() + 1\n",
    "xx, yy = np.meshgrid(np.arange(x_min, x_max, .02 ), np.arange(y_min, y_max,.02 ))\n",
    "\n",
    "#Obtener las etiquetas para cada dato \n",
    "Z = kmeans.predict(np.c_[xx.ravel(), yy.ravel()])\n",
    "\n",
    "# Poner los resultados en el gráfico\n",
    "Z = Z.reshape(xx.shape)\n",
    "plt.figure(1)\n",
    "plt.clf()\n",
    "plt.imshow(Z, interpolation=\"nearest\",\n",
    "           extent=(xx.min(), xx.max(), yy.min(), yy.max()),\n",
    "           cmap=plt.cm.Paired, aspect=\"auto\", origin=\"lower\")\n",
    "\n",
    "plt.plot(reduced_data[:, 0], reduced_data[:, 1], 'k.', markersize=2)\n",
    "# Graficar los centroides como una X blanca\n",
    "centroids = kmeans.cluster_centers_\n",
    "plt.scatter(centroids[:, 0], centroids[:, 1], marker=\"x\", s=169, linewidths=3,\n",
    "            color=\"w\", zorder=10)\n",
    "plt.title(\"K-means clustering en el dataset de números\\n\"\n",
    "          \"Centroides son las X blancas\")\n",
    "plt.xlim(x_min, x_max)\n",
    "plt.ylim(y_min, y_max)\n",
    "plt.xticks(())\n",
    "plt.yticks(())\n",
    "plt.show()"
   ]
  },
  {
   "cell_type": "code",
   "execution_count": 17,
   "metadata": {},
   "outputs": [
    {
     "data": {
      "text/plain": [
       "array([5, 9, 1, ..., 1, 7, 3])"
      ]
     },
     "execution_count": 17,
     "metadata": {},
     "output_type": "execute_result"
    }
   ],
   "source": [
    "#Etiquetas de los datos\n",
    "kmeans.labels_"
   ]
  },
  {
   "cell_type": "markdown",
   "metadata": {},
   "source": [
    "### Recomendaciones\n",
    "\n",
    "- Normalización: poner los atributos en escalas similares\n",
    "- Selección de características/reducción de dimensionalidad: es buena idea usar el menor número atributos posible debido a los que se conoce como la maldición de la dimensionalidad. A que a medida que el número de dimensiones (atributos) aumenta, la distancia discrimina cada vez menos."
   ]
  },
  {
   "cell_type": "markdown",
   "metadata": {},
   "source": [
    "#### Alguna bibliografía\n",
    "\n",
    "Evaluación del modelo\n",
    "- https://scikit-learn.org/stable/modules/clustering.html#clustering-evaluation\n",
    "\n",
    "Una guía práctica de clustering:\n",
    "- https://realpython.com/k-means-clustering-python/\n",
    "\n",
    "\n"
   ]
  }
 ],
 "metadata": {
  "kernelspec": {
   "display_name": "Python 3",
   "language": "python",
   "name": "python3"
  },
  "language_info": {
   "codemirror_mode": {
    "name": "ipython",
    "version": 3
   },
   "file_extension": ".py",
   "mimetype": "text/x-python",
   "name": "python",
   "nbconvert_exporter": "python",
   "pygments_lexer": "ipython3",
   "version": "3.8.8"
  }
 },
 "nbformat": 4,
 "nbformat_minor": 4
}
